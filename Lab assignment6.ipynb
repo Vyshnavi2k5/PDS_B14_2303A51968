{
  "nbformat": 4,
  "nbformat_minor": 0,
  "metadata": {
    "colab": {
      "provenance": [],
      "authorship_tag": "ABX9TyN+quVpJHAfbKDk4uw7X4EN",
      "include_colab_link": true
    },
    "kernelspec": {
      "name": "python3",
      "display_name": "Python 3"
    },
    "language_info": {
      "name": "python"
    }
  },
  "cells": [
    {
      "cell_type": "markdown",
      "metadata": {
        "id": "view-in-github",
        "colab_type": "text"
      },
      "source": [
        "<a href=\"https://colab.research.google.com/github/Vyshnavi2k5/PDS_B14_2303A51968/blob/main/Lab%20assignment6.ipynb\" target=\"_parent\"><img src=\"https://colab.research.google.com/assets/colab-badge.svg\" alt=\"Open In Colab\"/></a>"
      ]
    },
    {
      "cell_type": "code",
      "execution_count": 8,
      "metadata": {
        "colab": {
          "base_uri": "https://localhost:8080/"
        },
        "id": "UaLK7H_-sCTu",
        "outputId": "7d261122-0b2d-484f-e10b-46f4c6e54c38"
      },
      "outputs": [
        {
          "output_type": "stream",
          "name": "stdout",
          "text": [
            "===== Missing values per column (Before Cleaning) =====\n",
            "PassengerId    0\n",
            "Name           0\n",
            "Age            2\n",
            "Sex            0\n",
            "Embarked       1\n",
            "Cabin          4\n",
            "Survived       0\n",
            "dtype: int64\n",
            "\n",
            "\n",
            "===== Missing values per column (After Cleaning) =====\n",
            "PassengerId    0\n",
            "Name           0\n",
            "Age            0\n",
            "Sex            0\n",
            "Embarked       0\n",
            "Survived       0\n",
            "dtype: int64\n"
          ]
        }
      ],
      "source": [
        "import pandas as pd\n",
        "\n",
        "df = pd.read_csv(\"titanic.csv\")\n",
        "\n",
        "print(\"===== Missing values per column (Before Cleaning) =====\")\n",
        "print(df.isnull().sum())\n",
        "print(\"\\n\")\n",
        "\n",
        "# Fill missing Age with mean (reassignment, no inplace warning)\n",
        "df['Age'] = df['Age'].fillna(df['Age'].mean())\n",
        "\n",
        "# Fill missing Embarked with mode\n",
        "df['Embarked'] = df['Embarked'].fillna(df['Embarked'].mode()[0])\n",
        "\n",
        "# Drop Cabin column\n",
        "df = df.drop(columns=['Cabin'])\n",
        "\n",
        "print(\"===== Missing values per column (After Cleaning) =====\")\n",
        "print(df.isnull().sum())"
      ]
    }
  ]
}