{
  "nbformat": 4,
  "nbformat_minor": 0,
  "metadata": {
    "colab": {
      "provenance": [],
      "authorship_tag": "ABX9TyNsUsmAJK+T60nM4o/UJWTr",
      "include_colab_link": true
    },
    "kernelspec": {
      "name": "python3",
      "display_name": "Python 3"
    },
    "language_info": {
      "name": "python"
    }
  },
  "cells": [
    {
      "cell_type": "markdown",
      "metadata": {
        "id": "view-in-github",
        "colab_type": "text"
      },
      "source": [
        "<a href=\"https://colab.research.google.com/github/Vyshnavi2k5/PDS_B14_2303A51968/blob/main/Merging_and_joining_datasets.ipynb\" target=\"_parent\"><img src=\"https://colab.research.google.com/assets/colab-badge.svg\" alt=\"Open In Colab\"/></a>"
      ]
    },
    {
      "cell_type": "markdown",
      "source": [
        "Example:Simple Merge"
      ],
      "metadata": {
        "id": "JjH-oQhwepHb"
      }
    },
    {
      "cell_type": "code",
      "source": [
        "import pandas as pd\n",
        "\n",
        "#Student Data\n",
        "students = pd.DataFrame({\n",
        "    'Student_ID':[101,102,103,104],\n",
        "    'Name':['Ravi','Neha','Kiran','Sita']\n",
        "})\n",
        "\n",
        "#Marks Data\n",
        "marks=pd.DataFrame({\n",
        "    'Student_ID':[101,102,103,105],\n",
        "    'Marks':[85,90,78,88]\n",
        "})\n",
        "\n",
        "#Merge on Student_ID\n",
        "merged_df=pd.merge(students,marks,on='Student_ID')\n",
        "\n",
        "print(\"Merged DataFrame.\")\n",
        "print(merged_df)"
      ],
      "metadata": {
        "id": "_Te6BF2ucnyU",
        "colab": {
          "base_uri": "https://localhost:8080/"
        },
        "outputId": "631755bc-3e20-4cb8-e2a3-f2f9b6c8045b"
      },
      "execution_count": 6,
      "outputs": [
        {
          "output_type": "stream",
          "name": "stdout",
          "text": [
            "Merged DataFrame.\n",
            "   Student_ID   Name  Marks\n",
            "0         101   Ravi     85\n",
            "1         102   Neha     90\n",
            "2         103  Kiran     78\n"
          ]
        }
      ]
    },
    {
      "cell_type": "markdown",
      "source": [
        "Different Joins"
      ],
      "metadata": {
        "id": "nfvcKM_CiFrH"
      }
    },
    {
      "cell_type": "code",
      "source": [
        "#INNER JOIN(default)"
      ],
      "metadata": {
        "id": "aRJr3ZQ7iE6q"
      },
      "execution_count": null,
      "outputs": []
    },
    {
      "cell_type": "code",
      "source": [
        "inner=pd.merge(students,marks,on='Student_ID',how='inner')\n",
        "print(\"Inner Join:\\n\",inner)"
      ],
      "metadata": {
        "colab": {
          "base_uri": "https://localhost:8080/"
        },
        "id": "BBeYClwDiQml",
        "outputId": "f9831ff0-dad6-4cf8-a489-eb0fd517200c"
      },
      "execution_count": 8,
      "outputs": [
        {
          "output_type": "stream",
          "name": "stdout",
          "text": [
            "Inner Join:\n",
            "    Student_ID   Name  Marks\n",
            "0         101   Ravi     85\n",
            "1         102   Neha     90\n",
            "2         103  Kiran     78\n"
          ]
        }
      ]
    },
    {
      "cell_type": "code",
      "source": [
        "#LEFT JOIN"
      ],
      "metadata": {
        "id": "rFTzdUkyiqLe"
      },
      "execution_count": null,
      "outputs": []
    },
    {
      "cell_type": "code",
      "source": [
        "left=pd.merge(students,marks,on='Student_ID',how='left')\n",
        "print(\"\\nLeft Join:\\n\",left)"
      ],
      "metadata": {
        "colab": {
          "base_uri": "https://localhost:8080/"
        },
        "id": "6MP-xyWRiwbw",
        "outputId": "a0cbffe6-c0f7-40a2-857c-276410bea6fd"
      },
      "execution_count": 9,
      "outputs": [
        {
          "output_type": "stream",
          "name": "stdout",
          "text": [
            "\n",
            "Left Join:\n",
            "    Student_ID   Name  Marks\n",
            "0         101   Ravi   85.0\n",
            "1         102   Neha   90.0\n",
            "2         103  Kiran   78.0\n",
            "3         104   Sita    NaN\n"
          ]
        }
      ]
    },
    {
      "cell_type": "code",
      "source": [
        "#RIGHT JOIN\n",
        "right=pd.merge(students,marks,on='Student_ID',how='right')\n",
        "print(\"\\nRight Join:\\n\",right)"
      ],
      "metadata": {
        "colab": {
          "base_uri": "https://localhost:8080/"
        },
        "id": "f4WhNZXyi5lw",
        "outputId": "486487f9-1a3f-47bc-b5c7-c8d13b5a46e9"
      },
      "execution_count": 10,
      "outputs": [
        {
          "output_type": "stream",
          "name": "stdout",
          "text": [
            "\n",
            "Right Join:\n",
            "    Student_ID   Name  Marks\n",
            "0         101   Ravi     85\n",
            "1         102   Neha     90\n",
            "2         103  Kiran     78\n",
            "3         105    NaN     88\n"
          ]
        }
      ]
    },
    {
      "cell_type": "code",
      "source": [
        "#OUTER JOIN\n",
        "outer=pd.merge(students,marks,on='Student_ID',how='outer')\n",
        "print(\"\\nOuter Join:\\n\",outer)"
      ],
      "metadata": {
        "colab": {
          "base_uri": "https://localhost:8080/"
        },
        "id": "Sva4fMs4jF5z",
        "outputId": "00cfceba-93a7-449f-ebc0-9abdf55168ab"
      },
      "execution_count": 11,
      "outputs": [
        {
          "output_type": "stream",
          "name": "stdout",
          "text": [
            "\n",
            "Outer Join:\n",
            "    Student_ID   Name  Marks\n",
            "0         101   Ravi   85.0\n",
            "1         102   Neha   90.0\n",
            "2         103  Kiran   78.0\n",
            "3         104   Sita    NaN\n",
            "4         105    NaN   88.0\n"
          ]
        }
      ]
    },
    {
      "cell_type": "markdown",
      "source": [
        "Example: Using join()"
      ],
      "metadata": {
        "id": "QA5MZWljk9V8"
      }
    },
    {
      "cell_type": "code",
      "source": [
        "#student details(index=Student_ID)\n",
        "students=pd.DataFrame({\n",
        "    'Name':['Ravi','Neha','Kiran','Sita'],\n",
        "    'Age':[20,21,19,22]\n",
        "},index=[101,102,103,104])"
      ],
      "metadata": {
        "id": "4v_C16bMlBbr"
      },
      "execution_count": 12,
      "outputs": []
    },
    {
      "cell_type": "code",
      "source": [
        "#Marks Data(index=Student_ID)\n",
        "marks=pd.DataFrame({\n",
        "    'Marks':[85,90,78,88]\n",
        "},index=[101,102,103,105])"
      ],
      "metadata": {
        "id": "0Bvz-vyBlQ0P"
      },
      "execution_count": 13,
      "outputs": []
    },
    {
      "cell_type": "code",
      "source": [
        "#Join based on index\n",
        "joined_df=students.join(marks)\n",
        "\n",
        "print(\"Joined DataFrame:\")\n",
        "print(joined_df)"
      ],
      "metadata": {
        "colab": {
          "base_uri": "https://localhost:8080/"
        },
        "id": "I4AoTW4clbzV",
        "outputId": "5f80589a-8cab-4059-f3cd-b4eaf1a88fbc"
      },
      "execution_count": 14,
      "outputs": [
        {
          "output_type": "stream",
          "name": "stdout",
          "text": [
            "Joined DataFrame:\n",
            "      Name  Age  Marks\n",
            "101   Ravi   20   85.0\n",
            "102   Neha   21   90.0\n",
            "103  Kiran   19   78.0\n",
            "104   Sita   22    NaN\n"
          ]
        }
      ]
    }
  ]
}