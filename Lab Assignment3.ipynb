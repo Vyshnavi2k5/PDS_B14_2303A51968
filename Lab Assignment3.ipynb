{
  "nbformat": 4,
  "nbformat_minor": 0,
  "metadata": {
    "colab": {
      "provenance": [],
      "authorship_tag": "ABX9TyPInCneDGDgQ1GNBRHE6KfE",
      "include_colab_link": true
    },
    "kernelspec": {
      "name": "python3",
      "display_name": "Python 3"
    },
    "language_info": {
      "name": "python"
    }
  },
  "cells": [
    {
      "cell_type": "markdown",
      "metadata": {
        "id": "view-in-github",
        "colab_type": "text"
      },
      "source": [
        "<a href=\"https://colab.research.google.com/github/Vyshnavi2k5/PDS_B14_2303A51968/blob/main/Lab%20Assignment3.ipynb\" target=\"_parent\"><img src=\"https://colab.research.google.com/assets/colab-badge.svg\" alt=\"Open In Colab\"/></a>"
      ]
    },
    {
      "cell_type": "code",
      "execution_count": 1,
      "metadata": {
        "colab": {
          "base_uri": "https://localhost:8080/"
        },
        "id": "ySNWl4JsfrRj",
        "outputId": "5447f6b9-e936-41f4-b943-abf47d5eff09"
      },
      "outputs": [
        {
          "output_type": "stream",
          "name": "stdout",
          "text": [
            "Matrix A:\n",
            " [[ 3  9  3]\n",
            " [10  9  7]\n",
            " [ 8  7  8]]\n",
            "Matrix B:\n",
            " [[5 3 5]\n",
            " [4 5 2]\n",
            " [9 6 6]]\n",
            "\n",
            "Addition Result:\n",
            " [[ 8 12  8]\n",
            " [14 14  9]\n",
            " [17 13 14]]\n",
            "\n",
            "Subtraction Result:\n",
            " [[-2  6 -2]\n",
            " [ 6  4  5]\n",
            " [-1  1  2]]\n",
            "\n",
            "Verification for element [0][0]:\n",
            "A[0][0] + B[0][0] = 3 + 5 = 8\n",
            "A[0][0] - B[0][0] = 3 - 5 = -2\n"
          ]
        }
      ],
      "source": [
        "import numpy as np\n",
        "\n",
        "# Create two 3x3 matrices with random integers between 1 and 10\n",
        "A = np.random.randint(1, 11, size=(3, 3))\n",
        "B = np.random.randint(1, 11, size=(3, 3))\n",
        "\n",
        "# Perform addition and subtraction\n",
        "add_result = np.add(A, B)\n",
        "sub_result = np.subtract(A, B)\n",
        "\n",
        "# Display results\n",
        "print(\"Matrix A:\\n\", A)\n",
        "print(\"Matrix B:\\n\", B)\n",
        "print(\"\\nAddition Result:\\n\", add_result)\n",
        "print(\"\\nSubtraction Result:\\n\", sub_result)\n",
        "\n",
        "# Manual verification for one element\n",
        "print(\"\\nVerification for element [0][0]:\")\n",
        "print(f\"A[0][0] + B[0][0] = {A[0][0]} + {B[0][0]} = {add_result[0][0]}\")\n",
        "print(f\"A[0][0] - B[0][0] = {A[0][0]} - {B[0][0]} = {sub_result[0][0]}\")"
      ]
    },
    {
      "cell_type": "code",
      "source": [
        "import numpy as np\n",
        "\n",
        "# Create a 3D NumPy array (3x3x3) to simulate RGB image\n",
        "image = np.array([\n",
        "    [[123, 50, 200],\n",
        "     [34, 210, 89],\n",
        "     [255, 180, 75]],\n",
        "\n",
        "    [[45, 60, 90],\n",
        "     [220, 130, 40],\n",
        "     [10, 240, 180]],\n",
        "\n",
        "    [[100, 200, 150],\n",
        "     [60, 90, 120],\n",
        "     [80, 160, 220]]\n",
        "], dtype=np.uint8)"
      ],
      "metadata": {
        "id": "LaZMNFBMf33x"
      },
      "execution_count": 4,
      "outputs": []
    },
    {
      "cell_type": "code",
      "source": [
        "print(\"Original Image (3x3x3):\\n\", image)"
      ],
      "metadata": {
        "colab": {
          "base_uri": "https://localhost:8080/"
        },
        "id": "yn-Gq4WEgDcl",
        "outputId": "14c3d7f9-198e-436a-e203-0e04ae6d431c"
      },
      "execution_count": 6,
      "outputs": [
        {
          "output_type": "stream",
          "name": "stdout",
          "text": [
            "Original Image (3x3x3):\n",
            " [[[123  50 200]\n",
            "  [ 34 210  89]\n",
            "  [255 180  75]]\n",
            "\n",
            " [[ 45  60  90]\n",
            "  [220 130  40]\n",
            "  [ 10 240 180]]\n",
            "\n",
            " [[100 200 150]\n",
            "  [ 60  90 120]\n",
            "  [ 80 160 220]]]\n"
          ]
        }
      ]
    },
    {
      "cell_type": "code",
      "source": [
        "red_layer = image[:, :, 0]\n",
        "green_layer = image[:, :, 1]\n",
        "blue_layer = image[:, :, 2]\n",
        "\n",
        "print(\"\\nRed Channel:\\n\", red_layer)\n",
        "print(\"\\nGreen Channel:\\n\", green_layer)\n",
        "print(\"\\nBlue Channel:\\n\", blue_layer)"
      ],
      "metadata": {
        "colab": {
          "base_uri": "https://localhost:8080/"
        },
        "id": "qRt8kxgOgL2j",
        "outputId": "88642742-78a2-4117-874d-acfd6a7c4fa5"
      },
      "execution_count": 8,
      "outputs": [
        {
          "output_type": "stream",
          "name": "stdout",
          "text": [
            "\n",
            "Red Channel:\n",
            " [[123  34 255]\n",
            " [ 45 220  10]\n",
            " [100  60  80]]\n",
            "\n",
            "Green Channel:\n",
            " [[ 50 210 180]\n",
            " [ 60 130 240]\n",
            " [200  90 160]]\n",
            "\n",
            "Blue Channel:\n",
            " [[200  89  75]\n",
            " [ 90  40 180]\n",
            " [150 120 220]]\n"
          ]
        }
      ]
    },
    {
      "cell_type": "code",
      "source": [
        "avg_red = np.mean(red_layer)\n",
        "avg_green = np.mean(green_layer)\n",
        "avg_blue = np.mean(blue_layer)\n",
        "\n",
        "print(\"\\nAverage Intensities:\")\n",
        "print(f\"Red: {avg_red:.2f}, Green: {avg_green:.2f}, Blue: {avg_blue:.2f}\")"
      ],
      "metadata": {
        "colab": {
          "base_uri": "https://localhost:8080/"
        },
        "id": "4MLg7WtVgTc0",
        "outputId": "a31e5891-4c95-4cac-f0bc-7806f43c4fb1"
      },
      "execution_count": 9,
      "outputs": [
        {
          "output_type": "stream",
          "name": "stdout",
          "text": [
            "\n",
            "Average Intensities:\n",
            "Red: 103.00, Green: 146.67, Blue: 129.33\n"
          ]
        }
      ]
    },
    {
      "cell_type": "code",
      "source": [
        "brightened = np.clip(image + 50, 0, 255)\n",
        "print(\"\\nBrightened Image:\\n\", brightened)"
      ],
      "metadata": {
        "colab": {
          "base_uri": "https://localhost:8080/"
        },
        "id": "x4_y-586gWvb",
        "outputId": "913b0b9a-d1e6-4646-acd2-7e9b7a5bf914"
      },
      "execution_count": 11,
      "outputs": [
        {
          "output_type": "stream",
          "name": "stdout",
          "text": [
            "\n",
            "Brightened Image:\n",
            " [[[173 100 250]\n",
            "  [ 84   4 139]\n",
            "  [ 49 230 125]]\n",
            "\n",
            " [[ 95 110 140]\n",
            "  [ 14 180  90]\n",
            "  [ 60  34 230]]\n",
            "\n",
            " [[150 250 200]\n",
            "  [110 140 170]\n",
            "  [130 210  14]]]\n"
          ]
        }
      ]
    },
    {
      "cell_type": "code",
      "source": [
        "A = np.array([[1, 2, 3],\n",
        "              [4, 5, 6]])\n",
        "\n",
        "# 1D Array\n",
        "b = np.array([10, 20, 30])\n",
        "\n",
        "# Broadcasting (2D + 1D)\n",
        "C = A + b\n",
        "print(\"2D + 1D Broadcasting:\\n\", C)"
      ],
      "metadata": {
        "colab": {
          "base_uri": "https://localhost:8080/"
        },
        "id": "v64yPkCXgd9r",
        "outputId": "db3ea87e-c8d8-4dff-957d-7f81a0782ae4"
      },
      "execution_count": 13,
      "outputs": [
        {
          "output_type": "stream",
          "name": "stdout",
          "text": [
            "2D + 1D Broadcasting:\n",
            " [[11 22 33]\n",
            " [14 25 36]]\n"
          ]
        }
      ]
    },
    {
      "cell_type": "code",
      "source": [
        "D = np.ones((2,3,4)) * 5\n",
        "scalar = 10\n",
        "E = D + scalar\n",
        "print(\"\\n3D + scalar Broadcasting:\\n\", E)"
      ],
      "metadata": {
        "colab": {
          "base_uri": "https://localhost:8080/"
        },
        "id": "17IDXHrsgk5o",
        "outputId": "4b13eb76-087d-4920-e536-860c197a235c"
      },
      "execution_count": 15,
      "outputs": [
        {
          "output_type": "stream",
          "name": "stdout",
          "text": [
            "\n",
            "3D + scalar Broadcasting:\n",
            " [[[15. 15. 15. 15.]\n",
            "  [15. 15. 15. 15.]\n",
            "  [15. 15. 15. 15.]]\n",
            "\n",
            " [[15. 15. 15. 15.]\n",
            "  [15. 15. 15. 15.]\n",
            "  [15. 15. 15. 15.]]]\n"
          ]
        }
      ]
    },
    {
      "cell_type": "code",
      "source": [
        "b2 = np.array([1,2,3])\n",
        "expanded = b2[:, np.newaxis]\n",
        "print(\"\\nShape Transformation Example:\")\n",
        "print(\"Original b2.shape:\", b2.shape)\n",
        "print(\"Expanded b2.shape:\", expanded.shape)"
      ],
      "metadata": {
        "colab": {
          "base_uri": "https://localhost:8080/"
        },
        "id": "bX25JCl0gshr",
        "outputId": "c2b4748d-07da-445c-e7d8-96ed38d70ab3"
      },
      "execution_count": 17,
      "outputs": [
        {
          "output_type": "stream",
          "name": "stdout",
          "text": [
            "\n",
            "Shape Transformation Example:\n",
            "Original b2.shape: (3,)\n",
            "Expanded b2.shape: (3, 1)\n"
          ]
        }
      ]
    },
    {
      "cell_type": "code",
      "source": [
        "X = np.ones((2,3))\n",
        "# Changed Y to have shape (3,) to be compatible with X for broadcasting\n",
        "Y = np.ones((3,))\n",
        "Z = X + Y\n",
        "print(\"\\n2D + 1D Broadcasting (Fixed Example):\")\n",
        "print(\"X shape:\", X.shape)\n",
        "print(\"Y shape:\", Y.shape)\n",
        "print(\"Result Z:\\n\", Z)"
      ],
      "metadata": {
        "colab": {
          "base_uri": "https://localhost:8080/"
        },
        "id": "obNh9_SHgzUS",
        "outputId": "801fb5ff-19f9-4fe6-bc44-29d07eac3459"
      },
      "execution_count": 20,
      "outputs": [
        {
          "output_type": "stream",
          "name": "stdout",
          "text": [
            "\n",
            "2D + 1D Broadcasting (Fixed Example):\n",
            "X shape: (2, 3)\n",
            "Y shape: (3,)\n",
            "Result Z:\n",
            " [[2. 2. 2.]\n",
            " [2. 2. 2.]]\n"
          ]
        }
      ]
    }
  ]
}