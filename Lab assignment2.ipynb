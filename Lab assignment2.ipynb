{
  "nbformat": 4,
  "nbformat_minor": 0,
  "metadata": {
    "colab": {
      "provenance": [],
      "authorship_tag": "ABX9TyPlHN9bpQ0/1ZODn2F9aHva",
      "include_colab_link": true
    },
    "kernelspec": {
      "name": "python3",
      "display_name": "Python 3"
    },
    "language_info": {
      "name": "python"
    }
  },
  "cells": [
    {
      "cell_type": "markdown",
      "metadata": {
        "id": "view-in-github",
        "colab_type": "text"
      },
      "source": [
        "<a href=\"https://colab.research.google.com/github/Vyshnavi2k5/PDS_B14_2303A51968/blob/main/Lab%20assignment2.ipynb\" target=\"_parent\"><img src=\"https://colab.research.google.com/assets/colab-badge.svg\" alt=\"Open In Colab\"/></a>"
      ]
    },
    {
      "cell_type": "code",
      "execution_count": 2,
      "metadata": {
        "colab": {
          "base_uri": "https://localhost:8080/"
        },
        "id": "q0N7v8VucMKT",
        "outputId": "c5dddc8c-2874-4179-a1d5-407913a1bfa2"
      },
      "outputs": [
        {
          "output_type": "stream",
          "name": "stdout",
          "text": [
            "Marks:\n",
            " [[78 85 90]\n",
            " [92 88 76]\n",
            " [56 67 70]\n",
            " [89 94 91]\n",
            " [72 60 65]]\n",
            "Average: [84.33333333 85.33333333 64.33333333 91.33333333 65.66666667]\n",
            "Minimum: 56\n",
            "Maximum: 94\n",
            "2nd student: [92 88 76]\n",
            "Above 80:\n",
            " [85 90 92 88 89 94 91]\n",
            "Reshaped:\n",
            " [[78 85 90 92 88]\n",
            " [76 56 67 70 89]\n",
            " [94 91 72 60 65]]\n"
          ]
        }
      ],
      "source": [
        "import numpy as np\n",
        "\n",
        "marks = np.array([\n",
        "    [78, 85, 90],\n",
        "    [92, 88, 76],\n",
        "    [56, 67, 70],\n",
        "    [89, 94, 91],\n",
        "    [72, 60, 65]\n",
        "])\n",
        "\n",
        "print(\"Marks:\\n\", marks)\n",
        "\n",
        "avg = np.mean(marks, axis=1)\n",
        "print(\"Average:\", avg)\n",
        "print(\"Minimum:\", np.min(marks))\n",
        "print(\"Maximum:\", np.max(marks))\n",
        "\n",
        "print(\"2nd student:\", marks[1])\n",
        "\n",
        "print(\"Above 80:\\n\", marks[marks > 80])\n",
        "\n",
        "reshaped = marks.reshape(3, -1)\n",
        "print(\"Reshaped:\\n\", reshaped)"
      ]
    },
    {
      "cell_type": "code",
      "source": [
        "import pandas as pd\n",
        "\n",
        "data = {\n",
        "    \"Name\": [\"Alice\", \"Bob\", \"Charlie\", \"David\", \"Eva\"],\n",
        "    \"ID\": [101, 102, 103, 104, 105],\n",
        "    \"Department\": [\"HR\", \"IT\", \"Finance\", \"IT\", \"Marketing\"],\n",
        "    \"Salary\": [45000, 60000, 75000, 50000, 82000]\n",
        "}\n",
        "\n",
        "df = pd.DataFrame(data)\n",
        "print(\"Employees:\\n\", df)\n",
        "\n",
        "print(\"Salary > 50000:\\n\", df[df[\"Salary\"] > 50000])\n",
        "\n",
        "print(\"Sorted:\\n\", df.sort_values(by=\"Salary\", ascending=False))\n",
        "\n",
        "df[\"Bonus\"] = df[\"Salary\"] * 0.10\n",
        "print(\"With Bonus:\\n\", df)\n",
        "\n",
        "df[\"Total_Expense\"] = df[\"Salary\"] + df[\"Bonus\"]\n",
        "print(\"Total Expense:\", df[\"Total_Expense\"].sum())\n",
        "\n",
        "df.to_csv(\"employee_salary_analysis.csv\", index=False)\n",
        "print(\"Saved to CSV\")"
      ],
      "metadata": {
        "colab": {
          "base_uri": "https://localhost:8080/"
        },
        "id": "hLX2WSu8cd1O",
        "outputId": "0000aef2-bce3-4bed-de0c-6ceaa175f452"
      },
      "execution_count": 3,
      "outputs": [
        {
          "output_type": "stream",
          "name": "stdout",
          "text": [
            "Employees:\n",
            "       Name   ID Department  Salary\n",
            "0    Alice  101         HR   45000\n",
            "1      Bob  102         IT   60000\n",
            "2  Charlie  103    Finance   75000\n",
            "3    David  104         IT   50000\n",
            "4      Eva  105  Marketing   82000\n",
            "Salary > 50000:\n",
            "       Name   ID Department  Salary\n",
            "1      Bob  102         IT   60000\n",
            "2  Charlie  103    Finance   75000\n",
            "4      Eva  105  Marketing   82000\n",
            "Sorted:\n",
            "       Name   ID Department  Salary\n",
            "4      Eva  105  Marketing   82000\n",
            "2  Charlie  103    Finance   75000\n",
            "1      Bob  102         IT   60000\n",
            "3    David  104         IT   50000\n",
            "0    Alice  101         HR   45000\n",
            "With Bonus:\n",
            "       Name   ID Department  Salary   Bonus\n",
            "0    Alice  101         HR   45000  4500.0\n",
            "1      Bob  102         IT   60000  6000.0\n",
            "2  Charlie  103    Finance   75000  7500.0\n",
            "3    David  104         IT   50000  5000.0\n",
            "4      Eva  105  Marketing   82000  8200.0\n",
            "Total Expense: 343200.0\n",
            "Saved to CSV\n"
          ]
        }
      ]
    },
    {
      "cell_type": "code",
      "source": [],
      "metadata": {
        "id": "_Te6BF2ucnyU"
      },
      "execution_count": null,
      "outputs": []
    }
  ]
}