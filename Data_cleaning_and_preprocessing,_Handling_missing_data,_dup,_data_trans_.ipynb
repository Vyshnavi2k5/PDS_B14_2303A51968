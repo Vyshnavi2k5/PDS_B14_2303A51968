{
  "nbformat": 4,
  "nbformat_minor": 0,
  "metadata": {
    "colab": {
      "provenance": [],
      "authorship_tag": "ABX9TyN7jdKEcxC4MMT0+lyA8Xgq",
      "include_colab_link": true
    },
    "kernelspec": {
      "name": "python3",
      "display_name": "Python 3"
    },
    "language_info": {
      "name": "python"
    }
  },
  "cells": [
    {
      "cell_type": "markdown",
      "metadata": {
        "id": "view-in-github",
        "colab_type": "text"
      },
      "source": [
        "<a href=\"https://colab.research.google.com/github/Vyshnavi2k5/PDS_B14_2303A51968/blob/main/Data_cleaning_and_preprocessing%2C_Handling_missing_data%2C_dup%2C_data_trans_.ipynb\" target=\"_parent\"><img src=\"https://colab.research.google.com/assets/colab-badge.svg\" alt=\"Open In Colab\"/></a>"
      ]
    },
    {
      "cell_type": "markdown",
      "source": [
        "Detecting Missing values"
      ],
      "metadata": {
        "id": "ERLBjs5buyl2"
      }
    },
    {
      "cell_type": "code",
      "execution_count": 1,
      "metadata": {
        "colab": {
          "base_uri": "https://localhost:8080/"
        },
        "id": "Klr2miP6uun_",
        "outputId": "24667df9-4ee7-40ce-98f8-90b704bd0673"
      },
      "outputs": [
        {
          "output_type": "stream",
          "name": "stdout",
          "text": [
            "Original DataFrame:\n",
            "    Name   Age  Marks\n",
            "0   Ravi  25.0   85.0\n",
            "1   Neha   NaN   90.0\n",
            "2  Kiran  30.0    NaN\n",
            "3   Sita  28.0   92.0\n",
            "\n",
            "Check for Missing Values:\n",
            "    Name    Age  Marks\n",
            "0  False  False  False\n",
            "1  False   True  False\n",
            "2  False  False   True\n",
            "3  False  False  False\n"
          ]
        }
      ],
      "source": [
        "import pandas as pd\n",
        "import numpy as np\n",
        "\n",
        "#Creating a dataset with missing values\n",
        "data={\n",
        "    'Name':['Ravi', 'Neha', 'Kiran', 'Sita'],\n",
        "    'Age':[25, np.nan, 30, 28],\n",
        "    'Marks':[85, 90, np.nan, 92]\n",
        "}\n",
        "\n",
        "df = pd.DataFrame(data)\n",
        "\n",
        "print(\"Original DataFrame:\")\n",
        "print(df)\n",
        "\n",
        "#Detect missing values\n",
        "print(\"\\nCheck for Missing Values:\")\n",
        "print(df.isnull())"
      ]
    },
    {
      "cell_type": "markdown",
      "source": [
        "Dropping Missing Values"
      ],
      "metadata": {
        "id": "DllEbuhBv4FN"
      }
    },
    {
      "cell_type": "code",
      "source": [
        "#Drop rows with missing Values\n",
        "df_dropped = df.dropna()\n",
        "\n",
        "print(\"After Dropping Rows with NaN:\")\n",
        "print(df_dropped)\n"
      ],
      "metadata": {
        "colab": {
          "base_uri": "https://localhost:8080/"
        },
        "id": "U_KKMzQQv-fV",
        "outputId": "32883e4a-8c28-4b59-8be7-32a14fc9f7e6"
      },
      "execution_count": 2,
      "outputs": [
        {
          "output_type": "stream",
          "name": "stdout",
          "text": [
            "After Dropping Rows with NaN:\n",
            "   Name   Age  Marks\n",
            "0  Ravi  25.0   85.0\n",
            "3  Sita  28.0   92.0\n"
          ]
        }
      ]
    },
    {
      "cell_type": "markdown",
      "source": [
        "Filling Missing Values"
      ],
      "metadata": {
        "id": "cUdhe3J5yItZ"
      }
    },
    {
      "cell_type": "code",
      "source": [
        "#fill missing values with a constant\n",
        "df_filled = df.fillna(0)\n",
        "print(\"Filled with 0:\")\n",
        "print(df_filled)\n",
        "\n",
        "#Fill missing with mean of column\n",
        "df['Age']=df['Age'].fillna(df['Age'].mean())\n",
        "df['Marks']=df['Marks'].fillna(df['Marks'].mean())\n",
        "print(\"\\nFilled with Mean:\")\n",
        "print(df)"
      ],
      "metadata": {
        "colab": {
          "base_uri": "https://localhost:8080/"
        },
        "id": "HQVv7nA3yQDZ",
        "outputId": "e99098b9-fb42-499d-bbe6-48a650ac5452"
      },
      "execution_count": 5,
      "outputs": [
        {
          "output_type": "stream",
          "name": "stdout",
          "text": [
            "Filled with 0:\n",
            "    Name   Age  Marks\n",
            "0   Ravi  25.0   85.0\n",
            "1   Neha   0.0   90.0\n",
            "2  Kiran  30.0    0.0\n",
            "3   Sita  28.0   92.0\n",
            "\n",
            "Filled with Mean:\n",
            "    Name        Age  Marks\n",
            "0   Ravi  25.000000   85.0\n",
            "1   Neha  27.666667   90.0\n",
            "2  Kiran  30.000000   89.0\n",
            "3   Sita  28.000000   92.0\n"
          ]
        }
      ]
    },
    {
      "cell_type": "markdown",
      "source": [
        "3.Handling Duplicates"
      ],
      "metadata": {
        "id": "KmRDhyblzEJo"
      }
    },
    {
      "cell_type": "markdown",
      "source": [
        "Removing Duplicates"
      ],
      "metadata": {
        "id": "qVznQCJKzRyi"
      }
    },
    {
      "cell_type": "code",
      "source": [
        "data={\n",
        "    'ID':[1,2,2,3,3,4,4],\n",
        "    'Name':['Ravi','Neha','Neha','Kiran','Kiran','Sita','Sita'],\n",
        "    'Marks':[25,28,28,30,30,25,25]\n",
        "}\n",
        "\n",
        "df=pd.DataFrame(data)\n",
        "\n",
        "print(\"Original DataFrame:\")\n",
        "print(df)\n",
        "\n",
        "#Remove Duplicates\n",
        "df_no_dup = df.drop_duplicates()\n",
        "print(\"\\nAfter Removing Duplicates:\")\n",
        "print(df_no_dup)"
      ],
      "metadata": {
        "colab": {
          "base_uri": "https://localhost:8080/"
        },
        "id": "dBnwUIWyzXp9",
        "outputId": "df47f4ed-2572-40d6-fbde-f1e529392de5"
      },
      "execution_count": 6,
      "outputs": [
        {
          "output_type": "stream",
          "name": "stdout",
          "text": [
            "Original DataFrame:\n",
            "   ID   Name  Marks\n",
            "0   1   Ravi     25\n",
            "1   2   Neha     28\n",
            "2   2   Neha     28\n",
            "3   3  Kiran     30\n",
            "4   3  Kiran     30\n",
            "5   4   Sita     25\n",
            "6   4   Sita     25\n",
            "\n",
            "After Removing Duplicates:\n",
            "   ID   Name  Marks\n",
            "0   1   Ravi     25\n",
            "1   2   Neha     28\n",
            "3   3  Kiran     30\n",
            "5   4   Sita     25\n"
          ]
        }
      ]
    },
    {
      "cell_type": "markdown",
      "source": [
        "Changing datatypes"
      ],
      "metadata": {
        "id": "a6JRvaJv2Inj"
      }
    },
    {
      "cell_type": "code",
      "source": [
        "data={\n",
        "    'ID':['1','2','3','4'],\n",
        "    'Marks':['85','90','78','92']\n",
        "}\n",
        "\n",
        "df=pd.DataFrame(data)\n",
        "print(\"Original Data Types:\")\n",
        "print(df.dtypes)\n",
        "\n",
        "#Change Datatypes\n",
        "df['ID']=pd.to_numeric(df['ID'])\n",
        "df['Marks']=pd.to_numeric(df['Marks'])\n",
        "print(\"\\nAfter Conversions:\")\n",
        "print(df.dtypes)"
      ],
      "metadata": {
        "colab": {
          "base_uri": "https://localhost:8080/"
        },
        "id": "jAWq1Z0H2Alr",
        "outputId": "35c07437-dd0e-42be-fb18-7636dafb0cd5"
      },
      "execution_count": 8,
      "outputs": [
        {
          "output_type": "stream",
          "name": "stdout",
          "text": [
            "Original Data Types:\n",
            "ID       object\n",
            "Marks    object\n",
            "dtype: object\n",
            "\n",
            "After Conversions:\n",
            "ID       int64\n",
            "Marks    int64\n",
            "dtype: object\n"
          ]
        }
      ]
    },
    {
      "cell_type": "markdown",
      "source": [
        "Applying Functions"
      ],
      "metadata": {
        "id": "SmVH0zLx43Nv"
      }
    },
    {
      "cell_type": "code",
      "source": [
        "df['Marks']=df['Marks'].apply(lambda x:x+5)\n",
        "print(\"\\nAfter Applying Function:\")\n",
        "print(df)"
      ],
      "metadata": {
        "colab": {
          "base_uri": "https://localhost:8080/"
        },
        "id": "o5r7FqPp46jB",
        "outputId": "76b9fb62-5c55-418c-a5ad-28218c3b1fa5"
      },
      "execution_count": 9,
      "outputs": [
        {
          "output_type": "stream",
          "name": "stdout",
          "text": [
            "\n",
            "After Applying Function:\n",
            "   ID  Marks\n",
            "0   1     90\n",
            "1   2     95\n",
            "2   3     83\n",
            "3   4     97\n"
          ]
        }
      ]
    },
    {
      "cell_type": "markdown",
      "source": [
        "Normalisation of Marks(Scaling between 0 and 1)"
      ],
      "metadata": {
        "id": "W8dpia_d5Bku"
      }
    },
    {
      "cell_type": "code",
      "source": [
        "df['Marks_Normalisation']=(df['Marks']-df['Marks'].min())/(df['Marks'].max()-df['Marks'].min())\n",
        "print(\"Normalisation Marks:\")\n",
        "print(df)"
      ],
      "metadata": {
        "colab": {
          "base_uri": "https://localhost:8080/"
        },
        "id": "kaw6pVWd5JZf",
        "outputId": "45e0b10c-2060-4245-cdf0-5966b46b9248"
      },
      "execution_count": 10,
      "outputs": [
        {
          "output_type": "stream",
          "name": "stdout",
          "text": [
            "Normalisation Marks:\n",
            "   ID  Marks  Marks_Normalisation\n",
            "0   1     90             0.500000\n",
            "1   2     95             0.857143\n",
            "2   3     83             0.000000\n",
            "3   4     97             1.000000\n"
          ]
        }
      ]
    }
  ]
}