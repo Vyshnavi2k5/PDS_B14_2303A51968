{
  "nbformat": 4,
  "nbformat_minor": 0,
  "metadata": {
    "colab": {
      "provenance": [],
      "authorship_tag": "ABX9TyNWCUL+yljGIjsPSD3i7bqM",
      "include_colab_link": true
    },
    "kernelspec": {
      "name": "python3",
      "display_name": "Python 3"
    },
    "language_info": {
      "name": "python"
    }
  },
  "cells": [
    {
      "cell_type": "markdown",
      "metadata": {
        "id": "view-in-github",
        "colab_type": "text"
      },
      "source": [
        "<a href=\"https://colab.research.google.com/github/Vyshnavi2k5/PDS_B14_2303A51968/blob/main/Pandas_for_series%2C_data_frames_and_manipulation.ipynb\" target=\"_parent\"><img src=\"https://colab.research.google.com/assets/colab-badge.svg\" alt=\"Open In Colab\"/></a>"
      ]
    },
    {
      "cell_type": "code",
      "execution_count": 1,
      "metadata": {
        "colab": {
          "base_uri": "https://localhost:8080/"
        },
        "id": "fLvkYVY3ZPK4",
        "outputId": "380c18f5-08fc-456a-f60b-59ddfec2089c"
      },
      "outputs": [
        {
          "output_type": "stream",
          "name": "stdout",
          "text": [
            "Pandas Series:\n",
            "0    10\n",
            "1    20\n",
            "2    30\n",
            "3    40\n",
            "4    50\n",
            "dtype: int64\n"
          ]
        }
      ],
      "source": [
        "import pandas as pd\n",
        "\n",
        "#Creating a series from a list\n",
        "data = [10, 20, 30, 40, 50]\n",
        "series = pd.Series(data)\n",
        "\n",
        "print(\"Pandas Series:\")\n",
        "print(series)"
      ]
    },
    {
      "cell_type": "markdown",
      "source": [
        "Series with Custom Index"
      ],
      "metadata": {
        "id": "QPxS70nEcl_7"
      }
    },
    {
      "cell_type": "code",
      "source": [
        "import pandas as pd\n",
        "\n",
        "data = [10, 20, 30, 40, 50]\n",
        "index_labels = ['a', 'b', 'c', 'd', 'e']\n",
        "\n",
        "series = pd.Series(data, index=index_labels)\n",
        "\n",
        "print(series)"
      ],
      "metadata": {
        "colab": {
          "base_uri": "https://localhost:8080/"
        },
        "id": "c1-hIHXkcEUC",
        "outputId": "6b0bf662-85aa-49b3-bc7e-aca0e56c4552"
      },
      "execution_count": 2,
      "outputs": [
        {
          "output_type": "stream",
          "name": "stdout",
          "text": [
            "a    10\n",
            "b    20\n",
            "c    30\n",
            "d    40\n",
            "e    50\n",
            "dtype: int64\n"
          ]
        }
      ]
    },
    {
      "cell_type": "markdown",
      "source": [
        "Creating a DataFrame"
      ],
      "metadata": {
        "id": "iPJ_kLNgdou-"
      }
    },
    {
      "cell_type": "code",
      "source": [
        "import pandas as pd\n",
        "\n",
        "#Creating a DataFrame from a dictionary\n",
        "data={\n",
        "    'Name':['Alice','Bob','Claire','David'],\n",
        "    'Age':[25,30,35,40],\n",
        "    'City':['Hyderabad', 'Delhi', 'Chennai','Mumbai']\n",
        "}\n",
        "\n",
        "df=pd.DataFrame(data)\n",
        "\n",
        "print(\"Pandas DataFrame:\")\n",
        "print(df)\n"
      ],
      "metadata": {
        "colab": {
          "base_uri": "https://localhost:8080/"
        },
        "id": "TrnwJbHadsqV",
        "outputId": "520d56d8-d5d0-412c-fa03-3a6ee3e61757"
      },
      "execution_count": 3,
      "outputs": [
        {
          "output_type": "stream",
          "name": "stdout",
          "text": [
            "Pandas DataFrame:\n",
            "     Name  Age       City\n",
            "0   Alice   25  Hyderabad\n",
            "1     Bob   30      Delhi\n",
            "2  Claire   35    Chennai\n",
            "3   David   40     Mumbai\n"
          ]
        }
      ]
    },
    {
      "cell_type": "markdown",
      "source": [
        "Basic DataFrame Operations\n",
        "(a)Accessing Data"
      ],
      "metadata": {
        "id": "hNIT4Gw1ezR8"
      }
    },
    {
      "cell_type": "code",
      "source": [
        "#Access a single column\n",
        "print(df['Name'])\n",
        "\n",
        "#Access multiple columns\n",
        "print(df[['Name','City']])\n",
        "\n",
        "#Access rows using index\n",
        "print(df.iloc[1]) #row at index 1\n",
        "print(df.loc[2]) #row with label 2"
      ],
      "metadata": {
        "colab": {
          "base_uri": "https://localhost:8080/"
        },
        "id": "Bo409nsEfL8y",
        "outputId": "64e113d9-0920-49d3-951c-504c752e0f65"
      },
      "execution_count": 4,
      "outputs": [
        {
          "output_type": "stream",
          "name": "stdout",
          "text": [
            "0     Alice\n",
            "1       Bob\n",
            "2    Claire\n",
            "3     David\n",
            "Name: Name, dtype: object\n",
            "     Name       City\n",
            "0   Alice  Hyderabad\n",
            "1     Bob      Delhi\n",
            "2  Claire    Chennai\n",
            "3   David     Mumbai\n",
            "Name      Bob\n",
            "Age        30\n",
            "City    Delhi\n",
            "Name: 1, dtype: object\n",
            "Name     Claire\n",
            "Age          35\n",
            "City    Chennai\n",
            "Name: 2, dtype: object\n"
          ]
        }
      ]
    },
    {
      "cell_type": "markdown",
      "source": [
        "(b) Adding a New Column"
      ],
      "metadata": {
        "id": "AFc7UDL-f2kQ"
      }
    },
    {
      "cell_type": "code",
      "source": [
        "df['Salary'] = [40000, 50000, 60000, 70000]\n",
        "print(df)"
      ],
      "metadata": {
        "colab": {
          "base_uri": "https://localhost:8080/"
        },
        "id": "Pw0SBFrNf7Wj",
        "outputId": "9e0135f7-ff25-400f-9298-ec64c52cbaa0"
      },
      "execution_count": 5,
      "outputs": [
        {
          "output_type": "stream",
          "name": "stdout",
          "text": [
            "     Name  Age       City  Salary\n",
            "0   Alice   25  Hyderabad   40000\n",
            "1     Bob   30      Delhi   50000\n",
            "2  Claire   35    Chennai   60000\n",
            "3   David   40     Mumbai   70000\n"
          ]
        }
      ]
    },
    {
      "cell_type": "markdown",
      "source": [
        "c)Removing a Column"
      ],
      "metadata": {
        "id": "M1cw2gg7gFH8"
      }
    },
    {
      "cell_type": "code",
      "source": [
        "df=df.drop('City', axis=1)\n",
        "print(df)"
      ],
      "metadata": {
        "colab": {
          "base_uri": "https://localhost:8080/"
        },
        "id": "UY8tXqjEgI2z",
        "outputId": "f54e8819-fab2-45f1-9cb1-f6fb7b7bfd05"
      },
      "execution_count": 6,
      "outputs": [
        {
          "output_type": "stream",
          "name": "stdout",
          "text": [
            "     Name  Age  Salary\n",
            "0   Alice   25   40000\n",
            "1     Bob   30   50000\n",
            "2  Claire   35   60000\n",
            "3   David   40   70000\n"
          ]
        }
      ]
    },
    {
      "cell_type": "markdown",
      "source": [
        "d) Filtering Data"
      ],
      "metadata": {
        "id": "DK0ni7BwiAmQ"
      }
    },
    {
      "cell_type": "code",
      "source": [
        "# Select rows where Age > 30\n",
        "print(df[df['Age']>30])"
      ],
      "metadata": {
        "colab": {
          "base_uri": "https://localhost:8080/"
        },
        "id": "F9irjpqsiFRv",
        "outputId": "44f9a3e2-fc45-4a06-cceb-1e1471dd4f76"
      },
      "execution_count": 7,
      "outputs": [
        {
          "output_type": "stream",
          "name": "stdout",
          "text": [
            "     Name  Age  Salary\n",
            "2  Claire   35   60000\n",
            "3   David   40   70000\n"
          ]
        }
      ]
    },
    {
      "cell_type": "markdown",
      "source": [
        "e) Basic Statistics"
      ],
      "metadata": {
        "id": "yRWT2gBaiQbI"
      }
    },
    {
      "cell_type": "code",
      "source": [
        "from collections.abc import AsyncGenerator\n",
        "print(df['Age'].mean()) #Average age\n",
        "print(df['Age'].max()) #Maximum age\n",
        "print(df['Age'].min()) #Minimum age"
      ],
      "metadata": {
        "colab": {
          "base_uri": "https://localhost:8080/"
        },
        "id": "7zXodAuPiUGP",
        "outputId": "62f0ac5d-0781-45cc-c4b9-34de2ed3a3fe"
      },
      "execution_count": 8,
      "outputs": [
        {
          "output_type": "stream",
          "name": "stdout",
          "text": [
            "32.5\n",
            "40\n",
            "25\n"
          ]
        }
      ]
    },
    {
      "cell_type": "markdown",
      "source": [
        "Real-World Example: Student Data"
      ],
      "metadata": {
        "id": "KDqw6iffi-n3"
      }
    },
    {
      "cell_type": "code",
      "source": [
        "import pandas as pd\n",
        "\n",
        "#Create a DataFrame with student details\n",
        "student_data = {\n",
        "    'StudentID':[101, 102, 103, 104],\n",
        "    'Name':['Ravi','Neha','Kiran','Sita'],\n",
        "    'Marks':[85, 90, 78, 92],\n",
        "    'Department':['CSE', 'ECE', 'MECH', 'CSE']\n",
        "}\n",
        "\n",
        "df=pd.DataFrame(student_data)\n",
        "\n",
        "#Display full DataFrame\n",
        "print(\"Student Data:\")\n",
        "print(df)\n",
        "\n",
        "#Find students with marks>80\n",
        "print(\"\\nStudents with Marks>80:\")\n",
        "print(df[df['Marks']>80])\n",
        "\n",
        "#Average marks\n",
        "print(\"\\nAverage Marks:\",df['Marks'].mean())\n",
        "\n",
        "#Add new column\n",
        "df['Result']=['Pass' if x>=40 else 'Fail' for x in df['Marks']]\n",
        "print(\"\\nWith Result Column:\")\n",
        "print(df)"
      ],
      "metadata": {
        "colab": {
          "base_uri": "https://localhost:8080/"
        },
        "id": "yruTxhRbjDzm",
        "outputId": "506a6e65-9d72-4f09-97f1-ad150cdbf97f"
      },
      "execution_count": 11,
      "outputs": [
        {
          "output_type": "stream",
          "name": "stdout",
          "text": [
            "Student Data:\n",
            "   StudentID   Name  Marks Department\n",
            "0        101   Ravi     85        CSE\n",
            "1        102   Neha     90        ECE\n",
            "2        103  Kiran     78       MECH\n",
            "3        104   Sita     92        CSE\n",
            "\n",
            "Students with Marks>80:\n",
            "   StudentID  Name  Marks Department\n",
            "0        101  Ravi     85        CSE\n",
            "1        102  Neha     90        ECE\n",
            "3        104  Sita     92        CSE\n",
            "\n",
            "Average Marks: 86.25\n",
            "\n",
            "With Result Column:\n",
            "   StudentID   Name  Marks Department Result\n",
            "0        101   Ravi     85        CSE   Pass\n",
            "1        102   Neha     90        ECE   Pass\n",
            "2        103  Kiran     78       MECH   Pass\n",
            "3        104   Sita     92        CSE   Pass\n"
          ]
        }
      ]
    },
    {
      "cell_type": "markdown",
      "source": [
        "Excel Sheet"
      ],
      "metadata": {
        "id": "wuA1qwDElj1m"
      }
    },
    {
      "cell_type": "code",
      "source": [
        "import pandas as pd\n",
        "student_data = {\"S.No.\":[1, 2, 3, 4, 5],\n",
        "        \"Student_ID\":[1968, 1685, 2266, 2263, 1234],\n",
        "        \"Student_Name\":[\"vyshnavi\", \"siri\", \"jyoti\", \"pallavi\", \"hiranmai\"],\n",
        "        \"M1\":[92, 14, 81, 89, 51],\n",
        "        \"M2\":[74, 56, 81, 90, 24],\n",
        "        \"M3\":[52, 39, 78, 94, 67],\n",
        "}\n",
        "df=pd.DataFrame(student_data)\n",
        "df['total']=df['M1']+df['M2']+df['M3']\n",
        "df['Avg']=df['total']/3\n",
        "df['result']=['Pass' if x>=40 else 'Fail' for x in df['Avg']]\n",
        "print(\"Student Data with Results:\")\n",
        "print(df)"
      ],
      "metadata": {
        "colab": {
          "base_uri": "https://localhost:8080/"
        },
        "id": "1sySY8rVljT4",
        "outputId": "331fd137-03bf-4345-c54b-aca041b62306"
      },
      "execution_count": 17,
      "outputs": [
        {
          "output_type": "stream",
          "name": "stdout",
          "text": [
            "Student Data with Results:\n",
            "   S.No.  Student_ID Student_Name  M1  M2  M3  total        Avg result\n",
            "0      1        1968     vyshnavi  92  74  52    218  72.666667   Pass\n",
            "1      2        1685         siri  14  56  39    109  36.333333   Fail\n",
            "2      3        2266        jyoti  81  81  78    240  80.000000   Pass\n",
            "3      4        2263      pallavi  89  90  94    273  91.000000   Pass\n",
            "4      5        1234     hiranmai  51  24  67    142  47.333333   Pass\n"
          ]
        }
      ]
    }
  ]
}