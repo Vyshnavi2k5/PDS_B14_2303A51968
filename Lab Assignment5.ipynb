{
  "nbformat": 4,
  "nbformat_minor": 0,
  "metadata": {
    "colab": {
      "provenance": [],
      "authorship_tag": "ABX9TyNZ/B69YuqaCAStfIhBZkSQ",
      "include_colab_link": true
    },
    "kernelspec": {
      "name": "python3",
      "display_name": "Python 3"
    },
    "language_info": {
      "name": "python"
    }
  },
  "cells": [
    {
      "cell_type": "markdown",
      "metadata": {
        "id": "view-in-github",
        "colab_type": "text"
      },
      "source": [
        "<a href=\"https://colab.research.google.com/github/Vyshnavi2k5/PDS_B14_2303A51968/blob/main/Lab%20Assignment5.ipynb\" target=\"_parent\"><img src=\"https://colab.research.google.com/assets/colab-badge.svg\" alt=\"Open In Colab\"/></a>"
      ]
    },
    {
      "cell_type": "code",
      "execution_count": 1,
      "metadata": {
        "colab": {
          "base_uri": "https://localhost:8080/"
        },
        "id": "JNEx4B0Dxysi",
        "outputId": "8df9892c-afd3-42c7-d938-8c8e6ea7a501"
      },
      "outputs": [
        {
          "output_type": "stream",
          "name": "stdout",
          "text": [
            "mean     84.333333\n",
            "max      90.000000\n",
            "min      78.000000\n",
            "count     3.000000\n",
            "Name: score, dtype: float64\n",
            "       mean  max  min  count\n",
            "class                       \n",
            "A      81.5   85   78      2\n",
            "B      90.0   90   90      1\n"
          ]
        }
      ],
      "source": [
        "import pandas as pd\n",
        "students = pd.DataFrame({\n",
        "\"id\": [1, 2, 3, 4],\n",
        "\"name\": [\"Alice\", \"Bob\", \"Charlie\", \"David\"],\n",
        "\"class\": [\"A\", \"B\", \"A\", \"B\"]\n",
        "})\n",
        "scores = pd.DataFrame({\n",
        "\"id\": [1, 2, 3, 5],\n",
        "\"score\": [85, 90, 78, 92]\n",
        "})\n",
        "inner = pd.merge(students, scores, on=\"id\", how=\"inner\")\n",
        "left = pd.merge(students, scores, on=\"id\", how=\"left\")\n",
        "right = pd.merge(students, scores, on=\"id\", how=\"right\")\n",
        "print(inner[\"score\"].agg([\"mean\", \"max\", \"min\", \"count\"]))\n",
        "print(inner.groupby(\"class\")[\"score\"].agg([\"mean\", \"max\", \"min\", \"count\"]))"
      ]
    },
    {
      "cell_type": "markdown",
      "source": [
        "2. Merge Two Real World Data sets and compute Aggregate Statistics Using pandas\n"
      ],
      "metadata": {
        "id": "OTLZzP_Nx685"
      }
    },
    {
      "cell_type": "code",
      "source": [
        "import pandas as pd\n",
        "customers = pd.DataFrame({\n",
        "\"customer_id\": [1, 2, 3, 4],\n",
        "\"name\": [\"Alice\", \"Bob\", \"Charlie\", \"David\"],\n",
        "\"region\": [\"North\", \"South\", \"North\", \"East\"]\n",
        "})\n",
        "sales = pd.DataFrame({\n",
        "\"sale_id\": [101, 102, 103, 104, 105],\n",
        "\"customer_id\": [1, 2, 1, 3, 5],\n",
        "\"amount\": [250, 300, 150, 400, 500]\n",
        "})\n",
        "inner = pd.merge(customers, sales, on=\"customer_id\", how=\"inner\")\n",
        "left = pd.merge(customers, sales, on=\"customer_id\", how=\"left\")\n",
        "print(\"Sales Stats Overall:\\n\", inner[\"amount\"].agg([\"sum\", \"mean\", \"count\"]))\n",
        "print(\"\\nSales Stats by Customer:\\n\", inner.groupby(\"name\")[\"amount\"].sum())\n",
        "print(\"\\nSales Stats by Region:\\n\", inner.groupby(\"region\")[\"amount\"].agg([\"sum\", \"mean\", \"count\"]))"
      ],
      "metadata": {
        "colab": {
          "base_uri": "https://localhost:8080/"
        },
        "id": "39sc9n1bx3ZL",
        "outputId": "7a1a2b37-6e51-4616-e49a-a04b845f930a"
      },
      "execution_count": 2,
      "outputs": [
        {
          "output_type": "stream",
          "name": "stdout",
          "text": [
            "Sales Stats Overall:\n",
            " sum      1100.0\n",
            "mean      275.0\n",
            "count       4.0\n",
            "Name: amount, dtype: float64\n",
            "\n",
            "Sales Stats by Customer:\n",
            " name\n",
            "Alice      400\n",
            "Bob        300\n",
            "Charlie    400\n",
            "Name: amount, dtype: int64\n",
            "\n",
            "Sales Stats by Region:\n",
            "         sum        mean  count\n",
            "region                        \n",
            "North   800  266.666667      3\n",
            "South   300  300.000000      1\n"
          ]
        }
      ]
    },
    {
      "cell_type": "code",
      "source": [],
      "metadata": {
        "id": "nwozGr33yAv9"
      },
      "execution_count": null,
      "outputs": []
    }
  ]
}